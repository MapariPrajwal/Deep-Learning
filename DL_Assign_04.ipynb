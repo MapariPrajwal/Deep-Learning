{
 "cells": [
  {
   "cell_type": "code",
   "execution_count": 5,
   "metadata": {},
   "outputs": [],
   "source": [
    "import numpy as np\n",
    "from numba import cuda\n",
    "\n",
    "# Define the polynomial equation coefficients (a_n, a_{n-1}, ..., a_0)\n",
    "coefficients = np.array([1, -5, 6])  # Example: x^2 - 5x + 6 = 0"
   ]
  },
  {
   "cell_type": "code",
   "execution_count": 6,
   "metadata": {},
   "outputs": [],
   "source": [
    "# Define the polynomial equation solver kernel\n",
    "@cuda.jit\n",
    "def solve_polynomial_kernel(coefficients, roots, n, tolerance=1e-6, max_iterations=1000):\n",
    "    idx = cuda.grid(1)\n",
    "\n",
    "    if idx < len(roots):\n",
    "        x = roots[idx]\n",
    "        for i in range(max_iterations):\n",
    "            polynomial_value = 0.0\n",
    "            derivative = 0.0\n",
    "\n",
    "            # Evaluate the polynomial and its derivative using Horner's method\n",
    "            for j in range(n, -1, -1):\n",
    "                derivative = derivative * x + polynomial_value\n",
    "                polynomial_value = polynomial_value * x + coefficients[j]\n",
    "\n",
    "            # Update x using the Newton-Raphson method\n",
    "            if derivative == 0.0:\n",
    "                break\n",
    "            delta_x = polynomial_value / derivative\n",
    "            x -= delta_x\n",
    "\n",
    "            # Check for convergence\n",
    "            if abs(delta_x) < tolerance:\n",
    "                roots[idx] = x\n",
    "                break\n",
    "        else:\n",
    "            roots[idx] = np.nan  # Mark as NaN if no root is found within max_iterations"
   ]
  },
  {
   "cell_type": "code",
   "execution_count": 11,
   "metadata": {},
   "outputs": [],
   "source": [
    "# Main function to solve the polynomial equation using CUDA\n",
    "def solve_polynomial_equation_on_gpu(coefficients):\n",
    "    num_roots = len(coefficients) - 1\n",
    "    roots = np.empty(num_roots, dtype=np.float64)\n",
    "    threads_per_block = 128\n",
    "    blocks_per_grid = (num_roots + threads_per_block - 1) // threads_per_block\n",
    "    n = num_roots - 1  # Degree of the polynomial equation\n",
    "    solve_polynomial_kernel[blocks_per_grid, threads_per_block](coefficients, roots, n)\n",
    "    return roots"
   ]
  },
  {
   "cell_type": "code",
   "execution_count": 12,
   "metadata": {},
   "outputs": [
    {
     "ename": "TypeError",
     "evalue": "Failed in cuda mode pipeline (step: fix up args)\nSignature mismatch: 3 argument types given, but function takes 5 arguments",
     "output_type": "error",
     "traceback": [
      "\u001b[1;31m---------------------------------------------------------------------------\u001b[0m",
      "\u001b[1;31mTypeError\u001b[0m                                 Traceback (most recent call last)",
      "\u001b[1;32mc:\\Users\\prajw\\Python\\Deep Learning\\DL_Assign_04.ipynb Cell 4\u001b[0m line \u001b[0;36m2\n\u001b[0;32m      <a href='vscode-notebook-cell:/c%3A/Users/prajw/Python/Deep%20Learning/DL_Assign_04.ipynb#W3sZmlsZQ%3D%3D?line=0'>1</a>\u001b[0m \u001b[39m# Solve the polynomial equation on GPU\u001b[39;00m\n\u001b[1;32m----> <a href='vscode-notebook-cell:/c%3A/Users/prajw/Python/Deep%20Learning/DL_Assign_04.ipynb#W3sZmlsZQ%3D%3D?line=1'>2</a>\u001b[0m gpu_roots \u001b[39m=\u001b[39m solve_polynomial_equation_on_gpu(coefficients)\n\u001b[0;32m      <a href='vscode-notebook-cell:/c%3A/Users/prajw/Python/Deep%20Learning/DL_Assign_04.ipynb#W3sZmlsZQ%3D%3D?line=2'>3</a>\u001b[0m \u001b[39mprint\u001b[39m(\u001b[39m\"\u001b[39m\u001b[39mGPU Roots:\u001b[39m\u001b[39m\"\u001b[39m, gpu_roots)\n",
      "\u001b[1;32mc:\\Users\\prajw\\Python\\Deep Learning\\DL_Assign_04.ipynb Cell 4\u001b[0m line \u001b[0;36m8\n\u001b[0;32m      <a href='vscode-notebook-cell:/c%3A/Users/prajw/Python/Deep%20Learning/DL_Assign_04.ipynb#W3sZmlsZQ%3D%3D?line=5'>6</a>\u001b[0m blocks_per_grid \u001b[39m=\u001b[39m (num_roots \u001b[39m+\u001b[39m threads_per_block \u001b[39m-\u001b[39m \u001b[39m1\u001b[39m) \u001b[39m/\u001b[39m\u001b[39m/\u001b[39m threads_per_block\n\u001b[0;32m      <a href='vscode-notebook-cell:/c%3A/Users/prajw/Python/Deep%20Learning/DL_Assign_04.ipynb#W3sZmlsZQ%3D%3D?line=6'>7</a>\u001b[0m n \u001b[39m=\u001b[39m num_roots \u001b[39m-\u001b[39m \u001b[39m1\u001b[39m  \u001b[39m# Degree of the polynomial equation\u001b[39;00m\n\u001b[1;32m----> <a href='vscode-notebook-cell:/c%3A/Users/prajw/Python/Deep%20Learning/DL_Assign_04.ipynb#W3sZmlsZQ%3D%3D?line=7'>8</a>\u001b[0m solve_polynomial_kernel[blocks_per_grid, threads_per_block](coefficients, roots, n)\n\u001b[0;32m      <a href='vscode-notebook-cell:/c%3A/Users/prajw/Python/Deep%20Learning/DL_Assign_04.ipynb#W3sZmlsZQ%3D%3D?line=8'>9</a>\u001b[0m \u001b[39mreturn\u001b[39;00m roots\n",
      "File \u001b[1;32mc:\\Users\\prajw\\anaconda3\\envs\\DeepLearning\\lib\\site-packages\\numba\\cuda\\dispatcher.py:539\u001b[0m, in \u001b[0;36m_LaunchConfiguration.__call__\u001b[1;34m(self, *args)\u001b[0m\n\u001b[0;32m    538\u001b[0m \u001b[39mdef\u001b[39;00m \u001b[39m__call__\u001b[39m(\u001b[39mself\u001b[39m, \u001b[39m*\u001b[39margs):\n\u001b[1;32m--> 539\u001b[0m     \u001b[39mreturn\u001b[39;00m \u001b[39mself\u001b[39;49m\u001b[39m.\u001b[39;49mdispatcher\u001b[39m.\u001b[39;49mcall(args, \u001b[39mself\u001b[39;49m\u001b[39m.\u001b[39;49mgriddim, \u001b[39mself\u001b[39;49m\u001b[39m.\u001b[39;49mblockdim,\n\u001b[0;32m    540\u001b[0m                                 \u001b[39mself\u001b[39;49m\u001b[39m.\u001b[39;49mstream, \u001b[39mself\u001b[39;49m\u001b[39m.\u001b[39;49msharedmem)\n",
      "File \u001b[1;32mc:\\Users\\prajw\\anaconda3\\envs\\DeepLearning\\lib\\site-packages\\numba\\cuda\\dispatcher.py:673\u001b[0m, in \u001b[0;36mCUDADispatcher.call\u001b[1;34m(self, args, griddim, blockdim, stream, sharedmem)\u001b[0m\n\u001b[0;32m    671\u001b[0m     kernel \u001b[39m=\u001b[39m \u001b[39mnext\u001b[39m(\u001b[39miter\u001b[39m(\u001b[39mself\u001b[39m\u001b[39m.\u001b[39moverloads\u001b[39m.\u001b[39mvalues()))\n\u001b[0;32m    672\u001b[0m \u001b[39melse\u001b[39;00m:\n\u001b[1;32m--> 673\u001b[0m     kernel \u001b[39m=\u001b[39m _dispatcher\u001b[39m.\u001b[39;49mDispatcher\u001b[39m.\u001b[39;49m_cuda_call(\u001b[39mself\u001b[39;49m, \u001b[39m*\u001b[39;49margs)\n\u001b[0;32m    675\u001b[0m kernel\u001b[39m.\u001b[39mlaunch(args, griddim, blockdim, stream, sharedmem)\n",
      "File \u001b[1;32mc:\\Users\\prajw\\anaconda3\\envs\\DeepLearning\\lib\\site-packages\\numba\\cuda\\dispatcher.py:681\u001b[0m, in \u001b[0;36mCUDADispatcher._compile_for_args\u001b[1;34m(self, *args, **kws)\u001b[0m\n\u001b[0;32m    679\u001b[0m \u001b[39massert\u001b[39;00m \u001b[39mnot\u001b[39;00m kws\n\u001b[0;32m    680\u001b[0m argtypes \u001b[39m=\u001b[39m [\u001b[39mself\u001b[39m\u001b[39m.\u001b[39mtypeof_pyval(a) \u001b[39mfor\u001b[39;00m a \u001b[39min\u001b[39;00m args]\n\u001b[1;32m--> 681\u001b[0m \u001b[39mreturn\u001b[39;00m \u001b[39mself\u001b[39;49m\u001b[39m.\u001b[39;49mcompile(\u001b[39mtuple\u001b[39;49m(argtypes))\n",
      "File \u001b[1;32mc:\\Users\\prajw\\anaconda3\\envs\\DeepLearning\\lib\\site-packages\\numba\\cuda\\dispatcher.py:924\u001b[0m, in \u001b[0;36mCUDADispatcher.compile\u001b[1;34m(self, sig)\u001b[0m\n\u001b[0;32m    921\u001b[0m \u001b[39mif\u001b[39;00m \u001b[39mnot\u001b[39;00m \u001b[39mself\u001b[39m\u001b[39m.\u001b[39m_can_compile:\n\u001b[0;32m    922\u001b[0m     \u001b[39mraise\u001b[39;00m \u001b[39mRuntimeError\u001b[39;00m(\u001b[39m\"\u001b[39m\u001b[39mCompilation disabled\u001b[39m\u001b[39m\"\u001b[39m)\n\u001b[1;32m--> 924\u001b[0m kernel \u001b[39m=\u001b[39m _Kernel(\u001b[39mself\u001b[39m\u001b[39m.\u001b[39mpy_func, argtypes, \u001b[39m*\u001b[39m\u001b[39m*\u001b[39m\u001b[39mself\u001b[39m\u001b[39m.\u001b[39mtargetoptions)\n\u001b[0;32m    925\u001b[0m \u001b[39m# We call bind to force codegen, so that there is a cubin to cache\u001b[39;00m\n\u001b[0;32m    926\u001b[0m kernel\u001b[39m.\u001b[39mbind()\n",
      "File \u001b[1;32mc:\\Users\\prajw\\anaconda3\\envs\\DeepLearning\\lib\\site-packages\\numba\\core\\compiler_lock.py:35\u001b[0m, in \u001b[0;36m_CompilerLock.__call__.<locals>._acquire_compile_lock\u001b[1;34m(*args, **kwargs)\u001b[0m\n\u001b[0;32m     32\u001b[0m \u001b[39m@functools\u001b[39m\u001b[39m.\u001b[39mwraps(func)\n\u001b[0;32m     33\u001b[0m \u001b[39mdef\u001b[39;00m \u001b[39m_acquire_compile_lock\u001b[39m(\u001b[39m*\u001b[39margs, \u001b[39m*\u001b[39m\u001b[39m*\u001b[39mkwargs):\n\u001b[0;32m     34\u001b[0m     \u001b[39mwith\u001b[39;00m \u001b[39mself\u001b[39m:\n\u001b[1;32m---> 35\u001b[0m         \u001b[39mreturn\u001b[39;00m func(\u001b[39m*\u001b[39margs, \u001b[39m*\u001b[39m\u001b[39m*\u001b[39mkwargs)\n",
      "File \u001b[1;32mc:\\Users\\prajw\\anaconda3\\envs\\DeepLearning\\lib\\site-packages\\numba\\cuda\\dispatcher.py:83\u001b[0m, in \u001b[0;36m_Kernel.__init__\u001b[1;34m(self, py_func, argtypes, link, debug, lineinfo, inline, fastmath, extensions, max_registers, opt, device)\u001b[0m\n\u001b[0;32m     77\u001b[0m nvvm_options \u001b[39m=\u001b[39m {\n\u001b[0;32m     78\u001b[0m     \u001b[39m'\u001b[39m\u001b[39mfastmath\u001b[39m\u001b[39m'\u001b[39m: fastmath,\n\u001b[0;32m     79\u001b[0m     \u001b[39m'\u001b[39m\u001b[39mopt\u001b[39m\u001b[39m'\u001b[39m: \u001b[39m3\u001b[39m \u001b[39mif\u001b[39;00m opt \u001b[39melse\u001b[39;00m \u001b[39m0\u001b[39m\n\u001b[0;32m     80\u001b[0m }\n\u001b[0;32m     82\u001b[0m cc \u001b[39m=\u001b[39m get_current_device()\u001b[39m.\u001b[39mcompute_capability\n\u001b[1;32m---> 83\u001b[0m cres \u001b[39m=\u001b[39m compile_cuda(\u001b[39mself\u001b[39;49m\u001b[39m.\u001b[39;49mpy_func, types\u001b[39m.\u001b[39;49mvoid, \u001b[39mself\u001b[39;49m\u001b[39m.\u001b[39;49margtypes,\n\u001b[0;32m     84\u001b[0m                     debug\u001b[39m=\u001b[39;49m\u001b[39mself\u001b[39;49m\u001b[39m.\u001b[39;49mdebug,\n\u001b[0;32m     85\u001b[0m                     lineinfo\u001b[39m=\u001b[39;49mlineinfo,\n\u001b[0;32m     86\u001b[0m                     inline\u001b[39m=\u001b[39;49minline,\n\u001b[0;32m     87\u001b[0m                     fastmath\u001b[39m=\u001b[39;49mfastmath,\n\u001b[0;32m     88\u001b[0m                     nvvm_options\u001b[39m=\u001b[39;49mnvvm_options,\n\u001b[0;32m     89\u001b[0m                     cc\u001b[39m=\u001b[39;49mcc)\n\u001b[0;32m     90\u001b[0m tgt_ctx \u001b[39m=\u001b[39m cres\u001b[39m.\u001b[39mtarget_context\n\u001b[0;32m     91\u001b[0m code \u001b[39m=\u001b[39m \u001b[39mself\u001b[39m\u001b[39m.\u001b[39mpy_func\u001b[39m.\u001b[39m\u001b[39m__code__\u001b[39m\n",
      "File \u001b[1;32mc:\\Users\\prajw\\anaconda3\\envs\\DeepLearning\\lib\\site-packages\\numba\\core\\compiler_lock.py:35\u001b[0m, in \u001b[0;36m_CompilerLock.__call__.<locals>._acquire_compile_lock\u001b[1;34m(*args, **kwargs)\u001b[0m\n\u001b[0;32m     32\u001b[0m \u001b[39m@functools\u001b[39m\u001b[39m.\u001b[39mwraps(func)\n\u001b[0;32m     33\u001b[0m \u001b[39mdef\u001b[39;00m \u001b[39m_acquire_compile_lock\u001b[39m(\u001b[39m*\u001b[39margs, \u001b[39m*\u001b[39m\u001b[39m*\u001b[39mkwargs):\n\u001b[0;32m     34\u001b[0m     \u001b[39mwith\u001b[39;00m \u001b[39mself\u001b[39m:\n\u001b[1;32m---> 35\u001b[0m         \u001b[39mreturn\u001b[39;00m func(\u001b[39m*\u001b[39margs, \u001b[39m*\u001b[39m\u001b[39m*\u001b[39mkwargs)\n",
      "File \u001b[1;32mc:\\Users\\prajw\\anaconda3\\envs\\DeepLearning\\lib\\site-packages\\numba\\cuda\\compiler.py:194\u001b[0m, in \u001b[0;36mcompile_cuda\u001b[1;34m(pyfunc, return_type, args, debug, lineinfo, inline, fastmath, nvvm_options, cc)\u001b[0m\n\u001b[0;32m    192\u001b[0m \u001b[39mfrom\u001b[39;00m \u001b[39mnumba\u001b[39;00m\u001b[39m.\u001b[39;00m\u001b[39mcore\u001b[39;00m\u001b[39m.\u001b[39;00m\u001b[39mtarget_extension\u001b[39;00m \u001b[39mimport\u001b[39;00m target_override\n\u001b[0;32m    193\u001b[0m \u001b[39mwith\u001b[39;00m target_override(\u001b[39m'\u001b[39m\u001b[39mcuda\u001b[39m\u001b[39m'\u001b[39m):\n\u001b[1;32m--> 194\u001b[0m     cres \u001b[39m=\u001b[39m compiler\u001b[39m.\u001b[39;49mcompile_extra(typingctx\u001b[39m=\u001b[39;49mtypingctx,\n\u001b[0;32m    195\u001b[0m                                   targetctx\u001b[39m=\u001b[39;49mtargetctx,\n\u001b[0;32m    196\u001b[0m                                   func\u001b[39m=\u001b[39;49mpyfunc,\n\u001b[0;32m    197\u001b[0m                                   args\u001b[39m=\u001b[39;49margs,\n\u001b[0;32m    198\u001b[0m                                   return_type\u001b[39m=\u001b[39;49mreturn_type,\n\u001b[0;32m    199\u001b[0m                                   flags\u001b[39m=\u001b[39;49mflags,\n\u001b[0;32m    200\u001b[0m                                   \u001b[39mlocals\u001b[39;49m\u001b[39m=\u001b[39;49m{},\n\u001b[0;32m    201\u001b[0m                                   pipeline_class\u001b[39m=\u001b[39;49mCUDACompiler)\n\u001b[0;32m    203\u001b[0m library \u001b[39m=\u001b[39m cres\u001b[39m.\u001b[39mlibrary\n\u001b[0;32m    204\u001b[0m library\u001b[39m.\u001b[39mfinalize()\n",
      "File \u001b[1;32mc:\\Users\\prajw\\anaconda3\\envs\\DeepLearning\\lib\\site-packages\\numba\\core\\compiler.py:770\u001b[0m, in \u001b[0;36mcompile_extra\u001b[1;34m(typingctx, targetctx, func, args, return_type, flags, locals, library, pipeline_class)\u001b[0m\n\u001b[0;32m    746\u001b[0m \u001b[39m\u001b[39m\u001b[39m\"\"\"Compiler entry point\u001b[39;00m\n\u001b[0;32m    747\u001b[0m \n\u001b[0;32m    748\u001b[0m \u001b[39mParameter\u001b[39;00m\n\u001b[1;32m   (...)\u001b[0m\n\u001b[0;32m    766\u001b[0m \u001b[39m    compiler pipeline\u001b[39;00m\n\u001b[0;32m    767\u001b[0m \u001b[39m\"\"\"\u001b[39;00m\n\u001b[0;32m    768\u001b[0m pipeline \u001b[39m=\u001b[39m pipeline_class(typingctx, targetctx, library,\n\u001b[0;32m    769\u001b[0m                           args, return_type, flags, \u001b[39mlocals\u001b[39m)\n\u001b[1;32m--> 770\u001b[0m \u001b[39mreturn\u001b[39;00m pipeline\u001b[39m.\u001b[39;49mcompile_extra(func)\n",
      "File \u001b[1;32mc:\\Users\\prajw\\anaconda3\\envs\\DeepLearning\\lib\\site-packages\\numba\\core\\compiler.py:461\u001b[0m, in \u001b[0;36mCompilerBase.compile_extra\u001b[1;34m(self, func)\u001b[0m\n\u001b[0;32m    459\u001b[0m \u001b[39mself\u001b[39m\u001b[39m.\u001b[39mstate\u001b[39m.\u001b[39mlifted \u001b[39m=\u001b[39m ()\n\u001b[0;32m    460\u001b[0m \u001b[39mself\u001b[39m\u001b[39m.\u001b[39mstate\u001b[39m.\u001b[39mlifted_from \u001b[39m=\u001b[39m \u001b[39mNone\u001b[39;00m\n\u001b[1;32m--> 461\u001b[0m \u001b[39mreturn\u001b[39;00m \u001b[39mself\u001b[39;49m\u001b[39m.\u001b[39;49m_compile_bytecode()\n",
      "File \u001b[1;32mc:\\Users\\prajw\\anaconda3\\envs\\DeepLearning\\lib\\site-packages\\numba\\core\\compiler.py:529\u001b[0m, in \u001b[0;36mCompilerBase._compile_bytecode\u001b[1;34m(self)\u001b[0m\n\u001b[0;32m    525\u001b[0m \u001b[39m\u001b[39m\u001b[39m\"\"\"\u001b[39;00m\n\u001b[0;32m    526\u001b[0m \u001b[39mPopulate and run pipeline for bytecode input\u001b[39;00m\n\u001b[0;32m    527\u001b[0m \u001b[39m\"\"\"\u001b[39;00m\n\u001b[0;32m    528\u001b[0m \u001b[39massert\u001b[39;00m \u001b[39mself\u001b[39m\u001b[39m.\u001b[39mstate\u001b[39m.\u001b[39mfunc_ir \u001b[39mis\u001b[39;00m \u001b[39mNone\u001b[39;00m\n\u001b[1;32m--> 529\u001b[0m \u001b[39mreturn\u001b[39;00m \u001b[39mself\u001b[39;49m\u001b[39m.\u001b[39;49m_compile_core()\n",
      "File \u001b[1;32mc:\\Users\\prajw\\anaconda3\\envs\\DeepLearning\\lib\\site-packages\\numba\\core\\compiler.py:508\u001b[0m, in \u001b[0;36mCompilerBase._compile_core\u001b[1;34m(self)\u001b[0m\n\u001b[0;32m    506\u001b[0m         \u001b[39mself\u001b[39m\u001b[39m.\u001b[39mstate\u001b[39m.\u001b[39mstatus\u001b[39m.\u001b[39mfail_reason \u001b[39m=\u001b[39m e\n\u001b[0;32m    507\u001b[0m         \u001b[39mif\u001b[39;00m is_final_pipeline:\n\u001b[1;32m--> 508\u001b[0m             \u001b[39mraise\u001b[39;00m e\n\u001b[0;32m    509\u001b[0m \u001b[39melse\u001b[39;00m:\n\u001b[0;32m    510\u001b[0m     \u001b[39mraise\u001b[39;00m CompilerError(\u001b[39m\"\u001b[39m\u001b[39mAll available pipelines exhausted\u001b[39m\u001b[39m\"\u001b[39m)\n",
      "File \u001b[1;32mc:\\Users\\prajw\\anaconda3\\envs\\DeepLearning\\lib\\site-packages\\numba\\core\\compiler.py:495\u001b[0m, in \u001b[0;36mCompilerBase._compile_core\u001b[1;34m(self)\u001b[0m\n\u001b[0;32m    493\u001b[0m res \u001b[39m=\u001b[39m \u001b[39mNone\u001b[39;00m\n\u001b[0;32m    494\u001b[0m \u001b[39mtry\u001b[39;00m:\n\u001b[1;32m--> 495\u001b[0m     pm\u001b[39m.\u001b[39;49mrun(\u001b[39mself\u001b[39;49m\u001b[39m.\u001b[39;49mstate)\n\u001b[0;32m    496\u001b[0m     \u001b[39mif\u001b[39;00m \u001b[39mself\u001b[39m\u001b[39m.\u001b[39mstate\u001b[39m.\u001b[39mcr \u001b[39mis\u001b[39;00m \u001b[39mnot\u001b[39;00m \u001b[39mNone\u001b[39;00m:\n\u001b[0;32m    497\u001b[0m         \u001b[39mbreak\u001b[39;00m\n",
      "File \u001b[1;32mc:\\Users\\prajw\\anaconda3\\envs\\DeepLearning\\lib\\site-packages\\numba\\core\\compiler_machinery.py:368\u001b[0m, in \u001b[0;36mPassManager.run\u001b[1;34m(self, state)\u001b[0m\n\u001b[0;32m    365\u001b[0m msg \u001b[39m=\u001b[39m \u001b[39m\"\u001b[39m\u001b[39mFailed in \u001b[39m\u001b[39m%s\u001b[39;00m\u001b[39m mode pipeline (step: \u001b[39m\u001b[39m%s\u001b[39;00m\u001b[39m)\u001b[39m\u001b[39m\"\u001b[39m \u001b[39m%\u001b[39m \\\n\u001b[0;32m    366\u001b[0m     (\u001b[39mself\u001b[39m\u001b[39m.\u001b[39mpipeline_name, pass_desc)\n\u001b[0;32m    367\u001b[0m patched_exception \u001b[39m=\u001b[39m \u001b[39mself\u001b[39m\u001b[39m.\u001b[39m_patch_error(msg, e)\n\u001b[1;32m--> 368\u001b[0m \u001b[39mraise\u001b[39;00m patched_exception\n",
      "File \u001b[1;32mc:\\Users\\prajw\\anaconda3\\envs\\DeepLearning\\lib\\site-packages\\numba\\core\\compiler_machinery.py:356\u001b[0m, in \u001b[0;36mPassManager.run\u001b[1;34m(self, state)\u001b[0m\n\u001b[0;32m    354\u001b[0m pass_inst \u001b[39m=\u001b[39m _pass_registry\u001b[39m.\u001b[39mget(pss)\u001b[39m.\u001b[39mpass_inst\n\u001b[0;32m    355\u001b[0m \u001b[39mif\u001b[39;00m \u001b[39misinstance\u001b[39m(pass_inst, CompilerPass):\n\u001b[1;32m--> 356\u001b[0m     \u001b[39mself\u001b[39;49m\u001b[39m.\u001b[39;49m_runPass(idx, pass_inst, state)\n\u001b[0;32m    357\u001b[0m \u001b[39melse\u001b[39;00m:\n\u001b[0;32m    358\u001b[0m     \u001b[39mraise\u001b[39;00m \u001b[39mBaseException\u001b[39;00m(\u001b[39m\"\u001b[39m\u001b[39mLegacy pass in use\u001b[39m\u001b[39m\"\u001b[39m)\n",
      "File \u001b[1;32mc:\\Users\\prajw\\anaconda3\\envs\\DeepLearning\\lib\\site-packages\\numba\\core\\compiler_lock.py:35\u001b[0m, in \u001b[0;36m_CompilerLock.__call__.<locals>._acquire_compile_lock\u001b[1;34m(*args, **kwargs)\u001b[0m\n\u001b[0;32m     32\u001b[0m \u001b[39m@functools\u001b[39m\u001b[39m.\u001b[39mwraps(func)\n\u001b[0;32m     33\u001b[0m \u001b[39mdef\u001b[39;00m \u001b[39m_acquire_compile_lock\u001b[39m(\u001b[39m*\u001b[39margs, \u001b[39m*\u001b[39m\u001b[39m*\u001b[39mkwargs):\n\u001b[0;32m     34\u001b[0m     \u001b[39mwith\u001b[39;00m \u001b[39mself\u001b[39m:\n\u001b[1;32m---> 35\u001b[0m         \u001b[39mreturn\u001b[39;00m func(\u001b[39m*\u001b[39margs, \u001b[39m*\u001b[39m\u001b[39m*\u001b[39mkwargs)\n",
      "File \u001b[1;32mc:\\Users\\prajw\\anaconda3\\envs\\DeepLearning\\lib\\site-packages\\numba\\core\\compiler_machinery.py:311\u001b[0m, in \u001b[0;36mPassManager._runPass\u001b[1;34m(self, index, pss, internal_state)\u001b[0m\n\u001b[0;32m    309\u001b[0m     mutated \u001b[39m|\u001b[39m\u001b[39m=\u001b[39m check(pss\u001b[39m.\u001b[39mrun_initialization, internal_state)\n\u001b[0;32m    310\u001b[0m \u001b[39mwith\u001b[39;00m SimpleTimer() \u001b[39mas\u001b[39;00m pass_time:\n\u001b[1;32m--> 311\u001b[0m     mutated \u001b[39m|\u001b[39m\u001b[39m=\u001b[39m check(pss\u001b[39m.\u001b[39;49mrun_pass, internal_state)\n\u001b[0;32m    312\u001b[0m \u001b[39mwith\u001b[39;00m SimpleTimer() \u001b[39mas\u001b[39;00m finalize_time:\n\u001b[0;32m    313\u001b[0m     mutated \u001b[39m|\u001b[39m\u001b[39m=\u001b[39m check(pss\u001b[39m.\u001b[39mrun_finalizer, internal_state)\n",
      "File \u001b[1;32mc:\\Users\\prajw\\anaconda3\\envs\\DeepLearning\\lib\\site-packages\\numba\\core\\compiler_machinery.py:273\u001b[0m, in \u001b[0;36mPassManager._runPass.<locals>.check\u001b[1;34m(func, compiler_state)\u001b[0m\n\u001b[0;32m    272\u001b[0m \u001b[39mdef\u001b[39;00m \u001b[39mcheck\u001b[39m(func, compiler_state):\n\u001b[1;32m--> 273\u001b[0m     mangled \u001b[39m=\u001b[39m func(compiler_state)\n\u001b[0;32m    274\u001b[0m     \u001b[39mif\u001b[39;00m mangled \u001b[39mnot\u001b[39;00m \u001b[39min\u001b[39;00m (\u001b[39mTrue\u001b[39;00m, \u001b[39mFalse\u001b[39;00m):\n\u001b[0;32m    275\u001b[0m         msg \u001b[39m=\u001b[39m (\u001b[39m\"\u001b[39m\u001b[39mCompilerPass implementations should return True/False. \u001b[39m\u001b[39m\"\u001b[39m\n\u001b[0;32m    276\u001b[0m                \u001b[39m\"\u001b[39m\u001b[39mCompilerPass with name \u001b[39m\u001b[39m'\u001b[39m\u001b[39m%s\u001b[39;00m\u001b[39m'\u001b[39m\u001b[39m did not.\u001b[39m\u001b[39m\"\u001b[39m)\n",
      "File \u001b[1;32mc:\\Users\\prajw\\anaconda3\\envs\\DeepLearning\\lib\\site-packages\\numba\\core\\untyped_passes.py:125\u001b[0m, in \u001b[0;36mFixupArgs.run_pass\u001b[1;34m(self, state)\u001b[0m\n\u001b[0;32m    123\u001b[0m     state[\u001b[39m'\u001b[39m\u001b[39margs\u001b[39m\u001b[39m'\u001b[39m] \u001b[39m=\u001b[39m (types\u001b[39m.\u001b[39mpyobject,) \u001b[39m*\u001b[39m state[\u001b[39m'\u001b[39m\u001b[39mnargs\u001b[39m\u001b[39m'\u001b[39m]\n\u001b[0;32m    124\u001b[0m \u001b[39melif\u001b[39;00m \u001b[39mlen\u001b[39m(state[\u001b[39m'\u001b[39m\u001b[39margs\u001b[39m\u001b[39m'\u001b[39m]) \u001b[39m!=\u001b[39m state[\u001b[39m'\u001b[39m\u001b[39mnargs\u001b[39m\u001b[39m'\u001b[39m]:\n\u001b[1;32m--> 125\u001b[0m     \u001b[39mraise\u001b[39;00m \u001b[39mTypeError\u001b[39;00m(\u001b[39m\"\u001b[39m\u001b[39mSignature mismatch: \u001b[39m\u001b[39m%d\u001b[39;00m\u001b[39m argument types given, \u001b[39m\u001b[39m\"\u001b[39m\n\u001b[0;32m    126\u001b[0m                     \u001b[39m\"\u001b[39m\u001b[39mbut function takes \u001b[39m\u001b[39m%d\u001b[39;00m\u001b[39m arguments\u001b[39m\u001b[39m\"\u001b[39m\n\u001b[0;32m    127\u001b[0m                     \u001b[39m%\u001b[39m (\u001b[39mlen\u001b[39m(state[\u001b[39m'\u001b[39m\u001b[39margs\u001b[39m\u001b[39m'\u001b[39m]), state[\u001b[39m'\u001b[39m\u001b[39mnargs\u001b[39m\u001b[39m'\u001b[39m]))\n\u001b[0;32m    128\u001b[0m \u001b[39mreturn\u001b[39;00m \u001b[39mTrue\u001b[39;00m\n",
      "\u001b[1;31mTypeError\u001b[0m: Failed in cuda mode pipeline (step: fix up args)\nSignature mismatch: 3 argument types given, but function takes 5 arguments"
     ]
    }
   ],
   "source": [
    "# Solve the polynomial equation on GPU\n",
    "gpu_roots = solve_polynomial_equation_on_gpu(coefficients)\n",
    "print(\"GPU Roots:\", gpu_roots)"
   ]
  }
 ],
 "metadata": {
  "kernelspec": {
   "display_name": "DeepLearning",
   "language": "python",
   "name": "python3"
  },
  "language_info": {
   "codemirror_mode": {
    "name": "ipython",
    "version": 3
   },
   "file_extension": ".py",
   "mimetype": "text/x-python",
   "name": "python",
   "nbconvert_exporter": "python",
   "pygments_lexer": "ipython3",
   "version": "3.9.16"
  }
 },
 "nbformat": 4,
 "nbformat_minor": 2
}
