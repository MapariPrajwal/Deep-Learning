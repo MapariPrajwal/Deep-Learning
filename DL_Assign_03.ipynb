{
 "cells": [
  {
   "cell_type": "code",
   "execution_count": 1,
   "metadata": {},
   "outputs": [
    {
     "name": "stdout",
     "output_type": "stream",
     "text": [
      "Collecting numba\n",
      "  Downloading numba-0.58.0-cp39-cp39-win_amd64.whl (2.6 MB)\n",
      "     ---------------------------------------- 2.6/2.6 MB 9.8 MB/s eta 0:00:00\n",
      "Collecting numpy<1.26,>=1.21\n",
      "  Downloading numpy-1.25.2-cp39-cp39-win_amd64.whl (15.6 MB)\n",
      "     ---------------------------------------- 15.6/15.6 MB 5.7 MB/s eta 0:00:00\n",
      "Collecting llvmlite<0.42,>=0.41.0dev0\n",
      "  Downloading llvmlite-0.41.0-cp39-cp39-win_amd64.whl (28.1 MB)\n",
      "     ---------------------------------------- 28.1/28.1 MB 5.6 MB/s eta 0:00:00\n",
      "Installing collected packages: numpy, llvmlite, numba\n",
      "  Attempting uninstall: numpy\n",
      "    Found existing installation: numpy 1.26.1\n",
      "    Uninstalling numpy-1.26.1:\n",
      "      Successfully uninstalled numpy-1.26.1\n",
      "Successfully installed llvmlite-0.41.0 numba-0.58.0 numpy-1.25.2\n"
     ]
    }
   ],
   "source": [
    "!pip install numba"
   ]
  },
  {
   "cell_type": "code",
   "execution_count": 4,
   "metadata": {},
   "outputs": [
    {
     "name": "stderr",
     "output_type": "stream",
     "text": [
      "c:\\Users\\prajw\\anaconda3\\envs\\DeepLearning\\lib\\site-packages\\numba\\cuda\\dispatcher.py:536: NumbaPerformanceWarning: \u001b[1mGrid size 49 will likely result in GPU under-utilization due to low occupancy.\u001b[0m\n",
      "  warn(NumbaPerformanceWarning(msg))\n",
      "c:\\Users\\prajw\\anaconda3\\envs\\DeepLearning\\lib\\site-packages\\numba\\core\\utils.py:213: NumbaPendingDeprecationWarning: \u001b[1mCode using Numba extension API maybe depending on 'old_style' error-capturing, which is deprecated and will be replaced by 'new_style' in a future release. See details at https://numba.readthedocs.io/en/latest/reference/deprecation.html#deprecation-of-old-style-numba-captured-errors\n",
      "Exception origin:\n",
      "  File \"c:\\Users\\prajw\\anaconda3\\envs\\DeepLearning\\lib\\site-packages\\numba\\cuda\\cudadrv\\nvvm.py\", line 144, in __new__\n",
      "    raise NvvmSupportError(errmsg % e)\n",
      "\u001b[0m\n",
      "  warnings.warn(msg,\n"
     ]
    },
    {
     "ename": "NvvmSupportError",
     "evalue": "libNVVM cannot be found. Do `conda install cudatoolkit`:\nCould not find module 'nvvm.dll' (or one of its dependencies). Try using the full path with constructor syntax.",
     "output_type": "error",
     "traceback": [
      "\u001b[1;31m---------------------------------------------------------------------------\u001b[0m",
      "\u001b[1;31mFileNotFoundError\u001b[0m                         Traceback (most recent call last)",
      "File \u001b[1;32mc:\\Users\\prajw\\anaconda3\\envs\\DeepLearning\\lib\\site-packages\\numba\\cuda\\cudadrv\\nvvm.py:139\u001b[0m, in \u001b[0;36mNVVM.__new__\u001b[1;34m(cls)\u001b[0m\n\u001b[0;32m    138\u001b[0m \u001b[39mtry\u001b[39;00m:\n\u001b[1;32m--> 139\u001b[0m     inst\u001b[39m.\u001b[39mdriver \u001b[39m=\u001b[39m open_cudalib(\u001b[39m'\u001b[39;49m\u001b[39mnvvm\u001b[39;49m\u001b[39m'\u001b[39;49m)\n\u001b[0;32m    140\u001b[0m \u001b[39mexcept\u001b[39;00m \u001b[39mOSError\u001b[39;00m \u001b[39mas\u001b[39;00m e:\n",
      "File \u001b[1;32mc:\\Users\\prajw\\anaconda3\\envs\\DeepLearning\\lib\\site-packages\\numba\\cuda\\cudadrv\\libs.py:64\u001b[0m, in \u001b[0;36mopen_cudalib\u001b[1;34m(lib)\u001b[0m\n\u001b[0;32m     63\u001b[0m path \u001b[39m=\u001b[39m get_cudalib(lib)\n\u001b[1;32m---> 64\u001b[0m \u001b[39mreturn\u001b[39;00m ctypes\u001b[39m.\u001b[39;49mCDLL(path)\n",
      "File \u001b[1;32mc:\\Users\\prajw\\anaconda3\\envs\\DeepLearning\\lib\\ctypes\\__init__.py:374\u001b[0m, in \u001b[0;36mCDLL.__init__\u001b[1;34m(self, name, mode, handle, use_errno, use_last_error, winmode)\u001b[0m\n\u001b[0;32m    373\u001b[0m \u001b[39mif\u001b[39;00m handle \u001b[39mis\u001b[39;00m \u001b[39mNone\u001b[39;00m:\n\u001b[1;32m--> 374\u001b[0m     \u001b[39mself\u001b[39m\u001b[39m.\u001b[39m_handle \u001b[39m=\u001b[39m _dlopen(\u001b[39mself\u001b[39;49m\u001b[39m.\u001b[39;49m_name, mode)\n\u001b[0;32m    375\u001b[0m \u001b[39melse\u001b[39;00m:\n",
      "\u001b[1;31mFileNotFoundError\u001b[0m: Could not find module 'nvvm.dll' (or one of its dependencies). Try using the full path with constructor syntax.",
      "\nDuring handling of the above exception, another exception occurred:\n",
      "\u001b[1;31mNvvmSupportError\u001b[0m                          Traceback (most recent call last)",
      "\u001b[1;32mc:\\Users\\prajw\\Python\\Deep Learning\\DL_Assign_03.ipynb Cell 2\u001b[0m line \u001b[0;36m4\n\u001b[0;32m     <a href='vscode-notebook-cell:/c%3A/Users/prajw/Python/Deep%20Learning/DL_Assign_03.ipynb#W1sZmlsZQ%3D%3D?line=38'>39</a>\u001b[0m B \u001b[39m=\u001b[39m np\u001b[39m.\u001b[39mrandom\u001b[39m.\u001b[39mrand(\u001b[39m100\u001b[39m, \u001b[39m100\u001b[39m)\n\u001b[0;32m     <a href='vscode-notebook-cell:/c%3A/Users/prajw/Python/Deep%20Learning/DL_Assign_03.ipynb#W1sZmlsZQ%3D%3D?line=40'>41</a>\u001b[0m \u001b[39m# Perform matrix multiplication on GPU\u001b[39;00m\n\u001b[1;32m---> <a href='vscode-notebook-cell:/c%3A/Users/prajw/Python/Deep%20Learning/DL_Assign_03.ipynb#W1sZmlsZQ%3D%3D?line=41'>42</a>\u001b[0m result \u001b[39m=\u001b[39m matrix_multiply_on_gpu(A, B)\n\u001b[0;32m     <a href='vscode-notebook-cell:/c%3A/Users/prajw/Python/Deep%20Learning/DL_Assign_03.ipynb#W1sZmlsZQ%3D%3D?line=43'>44</a>\u001b[0m \u001b[39m# Perform matrix multiplication on CPU for comparison\u001b[39;00m\n\u001b[0;32m     <a href='vscode-notebook-cell:/c%3A/Users/prajw/Python/Deep%20Learning/DL_Assign_03.ipynb#W1sZmlsZQ%3D%3D?line=44'>45</a>\u001b[0m cpu_result \u001b[39m=\u001b[39m np\u001b[39m.\u001b[39mdot(A, B)\n",
      "\u001b[1;32mc:\\Users\\prajw\\Python\\Deep Learning\\DL_Assign_03.ipynb Cell 2\u001b[0m line \u001b[0;36m2\n\u001b[0;32m     <a href='vscode-notebook-cell:/c%3A/Users/prajw/Python/Deep%20Learning/DL_Assign_03.ipynb#W1sZmlsZQ%3D%3D?line=24'>25</a>\u001b[0m blocks_per_grid \u001b[39m=\u001b[39m (blocks_per_grid_x, blocks_per_grid_y)\n\u001b[0;32m     <a href='vscode-notebook-cell:/c%3A/Users/prajw/Python/Deep%20Learning/DL_Assign_03.ipynb#W1sZmlsZQ%3D%3D?line=26'>27</a>\u001b[0m \u001b[39m# Launch the kernel\u001b[39;00m\n\u001b[1;32m---> <a href='vscode-notebook-cell:/c%3A/Users/prajw/Python/Deep%20Learning/DL_Assign_03.ipynb#W1sZmlsZQ%3D%3D?line=27'>28</a>\u001b[0m matrix_multiplication[blocks_per_grid, threads_per_block](A_global_mem, B_global_mem, C_global_mem)\n\u001b[0;32m     <a href='vscode-notebook-cell:/c%3A/Users/prajw/Python/Deep%20Learning/DL_Assign_03.ipynb#W1sZmlsZQ%3D%3D?line=29'>30</a>\u001b[0m \u001b[39m# Copy the result back to the host\u001b[39;00m\n\u001b[0;32m     <a href='vscode-notebook-cell:/c%3A/Users/prajw/Python/Deep%20Learning/DL_Assign_03.ipynb#W1sZmlsZQ%3D%3D?line=30'>31</a>\u001b[0m C \u001b[39m=\u001b[39m C_global_mem\u001b[39m.\u001b[39mcopy_to_host()\n",
      "File \u001b[1;32mc:\\Users\\prajw\\anaconda3\\envs\\DeepLearning\\lib\\site-packages\\numba\\cuda\\dispatcher.py:539\u001b[0m, in \u001b[0;36m_LaunchConfiguration.__call__\u001b[1;34m(self, *args)\u001b[0m\n\u001b[0;32m    538\u001b[0m \u001b[39mdef\u001b[39;00m \u001b[39m__call__\u001b[39m(\u001b[39mself\u001b[39m, \u001b[39m*\u001b[39margs):\n\u001b[1;32m--> 539\u001b[0m     \u001b[39mreturn\u001b[39;00m \u001b[39mself\u001b[39;49m\u001b[39m.\u001b[39;49mdispatcher\u001b[39m.\u001b[39;49mcall(args, \u001b[39mself\u001b[39;49m\u001b[39m.\u001b[39;49mgriddim, \u001b[39mself\u001b[39;49m\u001b[39m.\u001b[39;49mblockdim,\n\u001b[0;32m    540\u001b[0m                                 \u001b[39mself\u001b[39;49m\u001b[39m.\u001b[39;49mstream, \u001b[39mself\u001b[39;49m\u001b[39m.\u001b[39;49msharedmem)\n",
      "File \u001b[1;32mc:\\Users\\prajw\\anaconda3\\envs\\DeepLearning\\lib\\site-packages\\numba\\cuda\\dispatcher.py:673\u001b[0m, in \u001b[0;36mCUDADispatcher.call\u001b[1;34m(self, args, griddim, blockdim, stream, sharedmem)\u001b[0m\n\u001b[0;32m    671\u001b[0m     kernel \u001b[39m=\u001b[39m \u001b[39mnext\u001b[39m(\u001b[39miter\u001b[39m(\u001b[39mself\u001b[39m\u001b[39m.\u001b[39moverloads\u001b[39m.\u001b[39mvalues()))\n\u001b[0;32m    672\u001b[0m \u001b[39melse\u001b[39;00m:\n\u001b[1;32m--> 673\u001b[0m     kernel \u001b[39m=\u001b[39m _dispatcher\u001b[39m.\u001b[39;49mDispatcher\u001b[39m.\u001b[39;49m_cuda_call(\u001b[39mself\u001b[39;49m, \u001b[39m*\u001b[39;49margs)\n\u001b[0;32m    675\u001b[0m kernel\u001b[39m.\u001b[39mlaunch(args, griddim, blockdim, stream, sharedmem)\n",
      "File \u001b[1;32mc:\\Users\\prajw\\anaconda3\\envs\\DeepLearning\\lib\\site-packages\\numba\\cuda\\dispatcher.py:681\u001b[0m, in \u001b[0;36mCUDADispatcher._compile_for_args\u001b[1;34m(self, *args, **kws)\u001b[0m\n\u001b[0;32m    679\u001b[0m \u001b[39massert\u001b[39;00m \u001b[39mnot\u001b[39;00m kws\n\u001b[0;32m    680\u001b[0m argtypes \u001b[39m=\u001b[39m [\u001b[39mself\u001b[39m\u001b[39m.\u001b[39mtypeof_pyval(a) \u001b[39mfor\u001b[39;00m a \u001b[39min\u001b[39;00m args]\n\u001b[1;32m--> 681\u001b[0m \u001b[39mreturn\u001b[39;00m \u001b[39mself\u001b[39;49m\u001b[39m.\u001b[39;49mcompile(\u001b[39mtuple\u001b[39;49m(argtypes))\n",
      "File \u001b[1;32mc:\\Users\\prajw\\anaconda3\\envs\\DeepLearning\\lib\\site-packages\\numba\\cuda\\dispatcher.py:924\u001b[0m, in \u001b[0;36mCUDADispatcher.compile\u001b[1;34m(self, sig)\u001b[0m\n\u001b[0;32m    921\u001b[0m \u001b[39mif\u001b[39;00m \u001b[39mnot\u001b[39;00m \u001b[39mself\u001b[39m\u001b[39m.\u001b[39m_can_compile:\n\u001b[0;32m    922\u001b[0m     \u001b[39mraise\u001b[39;00m \u001b[39mRuntimeError\u001b[39;00m(\u001b[39m\"\u001b[39m\u001b[39mCompilation disabled\u001b[39m\u001b[39m\"\u001b[39m)\n\u001b[1;32m--> 924\u001b[0m kernel \u001b[39m=\u001b[39m _Kernel(\u001b[39mself\u001b[39m\u001b[39m.\u001b[39mpy_func, argtypes, \u001b[39m*\u001b[39m\u001b[39m*\u001b[39m\u001b[39mself\u001b[39m\u001b[39m.\u001b[39mtargetoptions)\n\u001b[0;32m    925\u001b[0m \u001b[39m# We call bind to force codegen, so that there is a cubin to cache\u001b[39;00m\n\u001b[0;32m    926\u001b[0m kernel\u001b[39m.\u001b[39mbind()\n",
      "File \u001b[1;32mc:\\Users\\prajw\\anaconda3\\envs\\DeepLearning\\lib\\site-packages\\numba\\core\\compiler_lock.py:35\u001b[0m, in \u001b[0;36m_CompilerLock.__call__.<locals>._acquire_compile_lock\u001b[1;34m(*args, **kwargs)\u001b[0m\n\u001b[0;32m     32\u001b[0m \u001b[39m@functools\u001b[39m\u001b[39m.\u001b[39mwraps(func)\n\u001b[0;32m     33\u001b[0m \u001b[39mdef\u001b[39;00m \u001b[39m_acquire_compile_lock\u001b[39m(\u001b[39m*\u001b[39margs, \u001b[39m*\u001b[39m\u001b[39m*\u001b[39mkwargs):\n\u001b[0;32m     34\u001b[0m     \u001b[39mwith\u001b[39;00m \u001b[39mself\u001b[39m:\n\u001b[1;32m---> 35\u001b[0m         \u001b[39mreturn\u001b[39;00m func(\u001b[39m*\u001b[39margs, \u001b[39m*\u001b[39m\u001b[39m*\u001b[39mkwargs)\n",
      "File \u001b[1;32mc:\\Users\\prajw\\anaconda3\\envs\\DeepLearning\\lib\\site-packages\\numba\\cuda\\dispatcher.py:83\u001b[0m, in \u001b[0;36m_Kernel.__init__\u001b[1;34m(self, py_func, argtypes, link, debug, lineinfo, inline, fastmath, extensions, max_registers, opt, device)\u001b[0m\n\u001b[0;32m     77\u001b[0m nvvm_options \u001b[39m=\u001b[39m {\n\u001b[0;32m     78\u001b[0m     \u001b[39m'\u001b[39m\u001b[39mfastmath\u001b[39m\u001b[39m'\u001b[39m: fastmath,\n\u001b[0;32m     79\u001b[0m     \u001b[39m'\u001b[39m\u001b[39mopt\u001b[39m\u001b[39m'\u001b[39m: \u001b[39m3\u001b[39m \u001b[39mif\u001b[39;00m opt \u001b[39melse\u001b[39;00m \u001b[39m0\u001b[39m\n\u001b[0;32m     80\u001b[0m }\n\u001b[0;32m     82\u001b[0m cc \u001b[39m=\u001b[39m get_current_device()\u001b[39m.\u001b[39mcompute_capability\n\u001b[1;32m---> 83\u001b[0m cres \u001b[39m=\u001b[39m compile_cuda(\u001b[39mself\u001b[39;49m\u001b[39m.\u001b[39;49mpy_func, types\u001b[39m.\u001b[39;49mvoid, \u001b[39mself\u001b[39;49m\u001b[39m.\u001b[39;49margtypes,\n\u001b[0;32m     84\u001b[0m                     debug\u001b[39m=\u001b[39;49m\u001b[39mself\u001b[39;49m\u001b[39m.\u001b[39;49mdebug,\n\u001b[0;32m     85\u001b[0m                     lineinfo\u001b[39m=\u001b[39;49mlineinfo,\n\u001b[0;32m     86\u001b[0m                     inline\u001b[39m=\u001b[39;49minline,\n\u001b[0;32m     87\u001b[0m                     fastmath\u001b[39m=\u001b[39;49mfastmath,\n\u001b[0;32m     88\u001b[0m                     nvvm_options\u001b[39m=\u001b[39;49mnvvm_options,\n\u001b[0;32m     89\u001b[0m                     cc\u001b[39m=\u001b[39;49mcc)\n\u001b[0;32m     90\u001b[0m tgt_ctx \u001b[39m=\u001b[39m cres\u001b[39m.\u001b[39mtarget_context\n\u001b[0;32m     91\u001b[0m code \u001b[39m=\u001b[39m \u001b[39mself\u001b[39m\u001b[39m.\u001b[39mpy_func\u001b[39m.\u001b[39m\u001b[39m__code__\u001b[39m\n",
      "File \u001b[1;32mc:\\Users\\prajw\\anaconda3\\envs\\DeepLearning\\lib\\site-packages\\numba\\core\\compiler_lock.py:35\u001b[0m, in \u001b[0;36m_CompilerLock.__call__.<locals>._acquire_compile_lock\u001b[1;34m(*args, **kwargs)\u001b[0m\n\u001b[0;32m     32\u001b[0m \u001b[39m@functools\u001b[39m\u001b[39m.\u001b[39mwraps(func)\n\u001b[0;32m     33\u001b[0m \u001b[39mdef\u001b[39;00m \u001b[39m_acquire_compile_lock\u001b[39m(\u001b[39m*\u001b[39margs, \u001b[39m*\u001b[39m\u001b[39m*\u001b[39mkwargs):\n\u001b[0;32m     34\u001b[0m     \u001b[39mwith\u001b[39;00m \u001b[39mself\u001b[39m:\n\u001b[1;32m---> 35\u001b[0m         \u001b[39mreturn\u001b[39;00m func(\u001b[39m*\u001b[39margs, \u001b[39m*\u001b[39m\u001b[39m*\u001b[39mkwargs)\n",
      "File \u001b[1;32mc:\\Users\\prajw\\anaconda3\\envs\\DeepLearning\\lib\\site-packages\\numba\\cuda\\compiler.py:194\u001b[0m, in \u001b[0;36mcompile_cuda\u001b[1;34m(pyfunc, return_type, args, debug, lineinfo, inline, fastmath, nvvm_options, cc)\u001b[0m\n\u001b[0;32m    192\u001b[0m \u001b[39mfrom\u001b[39;00m \u001b[39mnumba\u001b[39;00m\u001b[39m.\u001b[39;00m\u001b[39mcore\u001b[39;00m\u001b[39m.\u001b[39;00m\u001b[39mtarget_extension\u001b[39;00m \u001b[39mimport\u001b[39;00m target_override\n\u001b[0;32m    193\u001b[0m \u001b[39mwith\u001b[39;00m target_override(\u001b[39m'\u001b[39m\u001b[39mcuda\u001b[39m\u001b[39m'\u001b[39m):\n\u001b[1;32m--> 194\u001b[0m     cres \u001b[39m=\u001b[39m compiler\u001b[39m.\u001b[39;49mcompile_extra(typingctx\u001b[39m=\u001b[39;49mtypingctx,\n\u001b[0;32m    195\u001b[0m                                   targetctx\u001b[39m=\u001b[39;49mtargetctx,\n\u001b[0;32m    196\u001b[0m                                   func\u001b[39m=\u001b[39;49mpyfunc,\n\u001b[0;32m    197\u001b[0m                                   args\u001b[39m=\u001b[39;49margs,\n\u001b[0;32m    198\u001b[0m                                   return_type\u001b[39m=\u001b[39;49mreturn_type,\n\u001b[0;32m    199\u001b[0m                                   flags\u001b[39m=\u001b[39;49mflags,\n\u001b[0;32m    200\u001b[0m                                   \u001b[39mlocals\u001b[39;49m\u001b[39m=\u001b[39;49m{},\n\u001b[0;32m    201\u001b[0m                                   pipeline_class\u001b[39m=\u001b[39;49mCUDACompiler)\n\u001b[0;32m    203\u001b[0m library \u001b[39m=\u001b[39m cres\u001b[39m.\u001b[39mlibrary\n\u001b[0;32m    204\u001b[0m library\u001b[39m.\u001b[39mfinalize()\n",
      "File \u001b[1;32mc:\\Users\\prajw\\anaconda3\\envs\\DeepLearning\\lib\\site-packages\\numba\\core\\compiler.py:770\u001b[0m, in \u001b[0;36mcompile_extra\u001b[1;34m(typingctx, targetctx, func, args, return_type, flags, locals, library, pipeline_class)\u001b[0m\n\u001b[0;32m    746\u001b[0m \u001b[39m\u001b[39m\u001b[39m\"\"\"Compiler entry point\u001b[39;00m\n\u001b[0;32m    747\u001b[0m \n\u001b[0;32m    748\u001b[0m \u001b[39mParameter\u001b[39;00m\n\u001b[1;32m   (...)\u001b[0m\n\u001b[0;32m    766\u001b[0m \u001b[39m    compiler pipeline\u001b[39;00m\n\u001b[0;32m    767\u001b[0m \u001b[39m\"\"\"\u001b[39;00m\n\u001b[0;32m    768\u001b[0m pipeline \u001b[39m=\u001b[39m pipeline_class(typingctx, targetctx, library,\n\u001b[0;32m    769\u001b[0m                           args, return_type, flags, \u001b[39mlocals\u001b[39m)\n\u001b[1;32m--> 770\u001b[0m \u001b[39mreturn\u001b[39;00m pipeline\u001b[39m.\u001b[39;49mcompile_extra(func)\n",
      "File \u001b[1;32mc:\\Users\\prajw\\anaconda3\\envs\\DeepLearning\\lib\\site-packages\\numba\\core\\compiler.py:461\u001b[0m, in \u001b[0;36mCompilerBase.compile_extra\u001b[1;34m(self, func)\u001b[0m\n\u001b[0;32m    459\u001b[0m \u001b[39mself\u001b[39m\u001b[39m.\u001b[39mstate\u001b[39m.\u001b[39mlifted \u001b[39m=\u001b[39m ()\n\u001b[0;32m    460\u001b[0m \u001b[39mself\u001b[39m\u001b[39m.\u001b[39mstate\u001b[39m.\u001b[39mlifted_from \u001b[39m=\u001b[39m \u001b[39mNone\u001b[39;00m\n\u001b[1;32m--> 461\u001b[0m \u001b[39mreturn\u001b[39;00m \u001b[39mself\u001b[39;49m\u001b[39m.\u001b[39;49m_compile_bytecode()\n",
      "File \u001b[1;32mc:\\Users\\prajw\\anaconda3\\envs\\DeepLearning\\lib\\site-packages\\numba\\core\\compiler.py:529\u001b[0m, in \u001b[0;36mCompilerBase._compile_bytecode\u001b[1;34m(self)\u001b[0m\n\u001b[0;32m    525\u001b[0m \u001b[39m\u001b[39m\u001b[39m\"\"\"\u001b[39;00m\n\u001b[0;32m    526\u001b[0m \u001b[39mPopulate and run pipeline for bytecode input\u001b[39;00m\n\u001b[0;32m    527\u001b[0m \u001b[39m\"\"\"\u001b[39;00m\n\u001b[0;32m    528\u001b[0m \u001b[39massert\u001b[39;00m \u001b[39mself\u001b[39m\u001b[39m.\u001b[39mstate\u001b[39m.\u001b[39mfunc_ir \u001b[39mis\u001b[39;00m \u001b[39mNone\u001b[39;00m\n\u001b[1;32m--> 529\u001b[0m \u001b[39mreturn\u001b[39;00m \u001b[39mself\u001b[39;49m\u001b[39m.\u001b[39;49m_compile_core()\n",
      "File \u001b[1;32mc:\\Users\\prajw\\anaconda3\\envs\\DeepLearning\\lib\\site-packages\\numba\\core\\compiler.py:508\u001b[0m, in \u001b[0;36mCompilerBase._compile_core\u001b[1;34m(self)\u001b[0m\n\u001b[0;32m    506\u001b[0m         \u001b[39mself\u001b[39m\u001b[39m.\u001b[39mstate\u001b[39m.\u001b[39mstatus\u001b[39m.\u001b[39mfail_reason \u001b[39m=\u001b[39m e\n\u001b[0;32m    507\u001b[0m         \u001b[39mif\u001b[39;00m is_final_pipeline:\n\u001b[1;32m--> 508\u001b[0m             \u001b[39mraise\u001b[39;00m e\n\u001b[0;32m    509\u001b[0m \u001b[39melse\u001b[39;00m:\n\u001b[0;32m    510\u001b[0m     \u001b[39mraise\u001b[39;00m CompilerError(\u001b[39m\"\u001b[39m\u001b[39mAll available pipelines exhausted\u001b[39m\u001b[39m\"\u001b[39m)\n",
      "File \u001b[1;32mc:\\Users\\prajw\\anaconda3\\envs\\DeepLearning\\lib\\site-packages\\numba\\core\\compiler.py:495\u001b[0m, in \u001b[0;36mCompilerBase._compile_core\u001b[1;34m(self)\u001b[0m\n\u001b[0;32m    493\u001b[0m res \u001b[39m=\u001b[39m \u001b[39mNone\u001b[39;00m\n\u001b[0;32m    494\u001b[0m \u001b[39mtry\u001b[39;00m:\n\u001b[1;32m--> 495\u001b[0m     pm\u001b[39m.\u001b[39;49mrun(\u001b[39mself\u001b[39;49m\u001b[39m.\u001b[39;49mstate)\n\u001b[0;32m    496\u001b[0m     \u001b[39mif\u001b[39;00m \u001b[39mself\u001b[39m\u001b[39m.\u001b[39mstate\u001b[39m.\u001b[39mcr \u001b[39mis\u001b[39;00m \u001b[39mnot\u001b[39;00m \u001b[39mNone\u001b[39;00m:\n\u001b[0;32m    497\u001b[0m         \u001b[39mbreak\u001b[39;00m\n",
      "File \u001b[1;32mc:\\Users\\prajw\\anaconda3\\envs\\DeepLearning\\lib\\site-packages\\numba\\core\\compiler_machinery.py:368\u001b[0m, in \u001b[0;36mPassManager.run\u001b[1;34m(self, state)\u001b[0m\n\u001b[0;32m    365\u001b[0m msg \u001b[39m=\u001b[39m \u001b[39m\"\u001b[39m\u001b[39mFailed in \u001b[39m\u001b[39m%s\u001b[39;00m\u001b[39m mode pipeline (step: \u001b[39m\u001b[39m%s\u001b[39;00m\u001b[39m)\u001b[39m\u001b[39m\"\u001b[39m \u001b[39m%\u001b[39m \\\n\u001b[0;32m    366\u001b[0m     (\u001b[39mself\u001b[39m\u001b[39m.\u001b[39mpipeline_name, pass_desc)\n\u001b[0;32m    367\u001b[0m patched_exception \u001b[39m=\u001b[39m \u001b[39mself\u001b[39m\u001b[39m.\u001b[39m_patch_error(msg, e)\n\u001b[1;32m--> 368\u001b[0m \u001b[39mraise\u001b[39;00m patched_exception\n",
      "File \u001b[1;32mc:\\Users\\prajw\\anaconda3\\envs\\DeepLearning\\lib\\site-packages\\numba\\core\\compiler_machinery.py:356\u001b[0m, in \u001b[0;36mPassManager.run\u001b[1;34m(self, state)\u001b[0m\n\u001b[0;32m    354\u001b[0m pass_inst \u001b[39m=\u001b[39m _pass_registry\u001b[39m.\u001b[39mget(pss)\u001b[39m.\u001b[39mpass_inst\n\u001b[0;32m    355\u001b[0m \u001b[39mif\u001b[39;00m \u001b[39misinstance\u001b[39m(pass_inst, CompilerPass):\n\u001b[1;32m--> 356\u001b[0m     \u001b[39mself\u001b[39;49m\u001b[39m.\u001b[39;49m_runPass(idx, pass_inst, state)\n\u001b[0;32m    357\u001b[0m \u001b[39melse\u001b[39;00m:\n\u001b[0;32m    358\u001b[0m     \u001b[39mraise\u001b[39;00m \u001b[39mBaseException\u001b[39;00m(\u001b[39m\"\u001b[39m\u001b[39mLegacy pass in use\u001b[39m\u001b[39m\"\u001b[39m)\n",
      "File \u001b[1;32mc:\\Users\\prajw\\anaconda3\\envs\\DeepLearning\\lib\\site-packages\\numba\\core\\compiler_lock.py:35\u001b[0m, in \u001b[0;36m_CompilerLock.__call__.<locals>._acquire_compile_lock\u001b[1;34m(*args, **kwargs)\u001b[0m\n\u001b[0;32m     32\u001b[0m \u001b[39m@functools\u001b[39m\u001b[39m.\u001b[39mwraps(func)\n\u001b[0;32m     33\u001b[0m \u001b[39mdef\u001b[39;00m \u001b[39m_acquire_compile_lock\u001b[39m(\u001b[39m*\u001b[39margs, \u001b[39m*\u001b[39m\u001b[39m*\u001b[39mkwargs):\n\u001b[0;32m     34\u001b[0m     \u001b[39mwith\u001b[39;00m \u001b[39mself\u001b[39m:\n\u001b[1;32m---> 35\u001b[0m         \u001b[39mreturn\u001b[39;00m func(\u001b[39m*\u001b[39margs, \u001b[39m*\u001b[39m\u001b[39m*\u001b[39mkwargs)\n",
      "File \u001b[1;32mc:\\Users\\prajw\\anaconda3\\envs\\DeepLearning\\lib\\site-packages\\numba\\core\\compiler_machinery.py:311\u001b[0m, in \u001b[0;36mPassManager._runPass\u001b[1;34m(self, index, pss, internal_state)\u001b[0m\n\u001b[0;32m    309\u001b[0m     mutated \u001b[39m|\u001b[39m\u001b[39m=\u001b[39m check(pss\u001b[39m.\u001b[39mrun_initialization, internal_state)\n\u001b[0;32m    310\u001b[0m \u001b[39mwith\u001b[39;00m SimpleTimer() \u001b[39mas\u001b[39;00m pass_time:\n\u001b[1;32m--> 311\u001b[0m     mutated \u001b[39m|\u001b[39m\u001b[39m=\u001b[39m check(pss\u001b[39m.\u001b[39;49mrun_pass, internal_state)\n\u001b[0;32m    312\u001b[0m \u001b[39mwith\u001b[39;00m SimpleTimer() \u001b[39mas\u001b[39;00m finalize_time:\n\u001b[0;32m    313\u001b[0m     mutated \u001b[39m|\u001b[39m\u001b[39m=\u001b[39m check(pss\u001b[39m.\u001b[39mrun_finalizer, internal_state)\n",
      "File \u001b[1;32mc:\\Users\\prajw\\anaconda3\\envs\\DeepLearning\\lib\\site-packages\\numba\\core\\compiler_machinery.py:273\u001b[0m, in \u001b[0;36mPassManager._runPass.<locals>.check\u001b[1;34m(func, compiler_state)\u001b[0m\n\u001b[0;32m    272\u001b[0m \u001b[39mdef\u001b[39;00m \u001b[39mcheck\u001b[39m(func, compiler_state):\n\u001b[1;32m--> 273\u001b[0m     mangled \u001b[39m=\u001b[39m func(compiler_state)\n\u001b[0;32m    274\u001b[0m     \u001b[39mif\u001b[39;00m mangled \u001b[39mnot\u001b[39;00m \u001b[39min\u001b[39;00m (\u001b[39mTrue\u001b[39;00m, \u001b[39mFalse\u001b[39;00m):\n\u001b[0;32m    275\u001b[0m         msg \u001b[39m=\u001b[39m (\u001b[39m\"\u001b[39m\u001b[39mCompilerPass implementations should return True/False. \u001b[39m\u001b[39m\"\u001b[39m\n\u001b[0;32m    276\u001b[0m                \u001b[39m\"\u001b[39m\u001b[39mCompilerPass with name \u001b[39m\u001b[39m'\u001b[39m\u001b[39m%s\u001b[39;00m\u001b[39m'\u001b[39m\u001b[39m did not.\u001b[39m\u001b[39m\"\u001b[39m)\n",
      "File \u001b[1;32mc:\\Users\\prajw\\anaconda3\\envs\\DeepLearning\\lib\\site-packages\\numba\\core\\typed_passes.py:464\u001b[0m, in \u001b[0;36mBaseNativeLowering.run_pass\u001b[1;34m(self, state)\u001b[0m\n\u001b[0;32m    457\u001b[0m fndesc \u001b[39m=\u001b[39m \\\n\u001b[0;32m    458\u001b[0m     funcdesc\u001b[39m.\u001b[39mPythonFunctionDescriptor\u001b[39m.\u001b[39mfrom_specialized_function(\n\u001b[0;32m    459\u001b[0m         interp, typemap, restype, calltypes,\n\u001b[0;32m    460\u001b[0m         mangler\u001b[39m=\u001b[39mtargetctx\u001b[39m.\u001b[39mmangler, inline\u001b[39m=\u001b[39mflags\u001b[39m.\u001b[39mforceinline,\n\u001b[0;32m    461\u001b[0m         noalias\u001b[39m=\u001b[39mflags\u001b[39m.\u001b[39mnoalias, abi_tags\u001b[39m=\u001b[39m[flags\u001b[39m.\u001b[39mget_mangle_string()])\n\u001b[0;32m    463\u001b[0m \u001b[39mwith\u001b[39;00m targetctx\u001b[39m.\u001b[39mpush_code_library(library):\n\u001b[1;32m--> 464\u001b[0m     lower \u001b[39m=\u001b[39m \u001b[39mself\u001b[39;49m\u001b[39m.\u001b[39;49mlowering_class(targetctx, library, fndesc, interp,\n\u001b[0;32m    465\u001b[0m                                 metadata\u001b[39m=\u001b[39;49mmetadata)\n\u001b[0;32m    466\u001b[0m     lower\u001b[39m.\u001b[39mlower()\n\u001b[0;32m    467\u001b[0m     \u001b[39mif\u001b[39;00m \u001b[39mnot\u001b[39;00m flags\u001b[39m.\u001b[39mno_cpython_wrapper:\n",
      "File \u001b[1;32mc:\\Users\\prajw\\anaconda3\\envs\\DeepLearning\\lib\\site-packages\\numba\\core\\lowering.py:39\u001b[0m, in \u001b[0;36mBaseLower.__init__\u001b[1;34m(self, context, library, fndesc, func_ir, metadata)\u001b[0m\n\u001b[0;32m     36\u001b[0m \u001b[39mself\u001b[39m\u001b[39m.\u001b[39mflags \u001b[39m=\u001b[39m targetconfig\u001b[39m.\u001b[39mConfigStack\u001b[39m.\u001b[39mtop_or_none()\n\u001b[0;32m     38\u001b[0m \u001b[39m# Initialize LLVM\u001b[39;00m\n\u001b[1;32m---> 39\u001b[0m \u001b[39mself\u001b[39m\u001b[39m.\u001b[39mmodule \u001b[39m=\u001b[39m \u001b[39mself\u001b[39;49m\u001b[39m.\u001b[39;49mlibrary\u001b[39m.\u001b[39;49mcreate_ir_module(\u001b[39mself\u001b[39;49m\u001b[39m.\u001b[39;49mfndesc\u001b[39m.\u001b[39;49munique_name)\n\u001b[0;32m     41\u001b[0m \u001b[39m# Python execution environment (will be available to the compiled\u001b[39;00m\n\u001b[0;32m     42\u001b[0m \u001b[39m# function).\u001b[39;00m\n\u001b[0;32m     43\u001b[0m \u001b[39mself\u001b[39m\u001b[39m.\u001b[39menv \u001b[39m=\u001b[39m Environment\u001b[39m.\u001b[39mfrom_fndesc(\u001b[39mself\u001b[39m\u001b[39m.\u001b[39mfndesc)\n",
      "File \u001b[1;32mc:\\Users\\prajw\\anaconda3\\envs\\DeepLearning\\lib\\site-packages\\numba\\core\\codegen.py:574\u001b[0m, in \u001b[0;36mCodeLibrary.create_ir_module\u001b[1;34m(self, name)\u001b[0m\n\u001b[0;32m    570\u001b[0m \u001b[39m\u001b[39m\u001b[39m\"\"\"\u001b[39;00m\n\u001b[0;32m    571\u001b[0m \u001b[39mCreate an LLVM IR module for use by this library.\u001b[39;00m\n\u001b[0;32m    572\u001b[0m \u001b[39m\"\"\"\u001b[39;00m\n\u001b[0;32m    573\u001b[0m \u001b[39mself\u001b[39m\u001b[39m.\u001b[39m_raise_if_finalized()\n\u001b[1;32m--> 574\u001b[0m ir_module \u001b[39m=\u001b[39m \u001b[39mself\u001b[39;49m\u001b[39m.\u001b[39;49m_codegen\u001b[39m.\u001b[39;49m_create_empty_module(name)\n\u001b[0;32m    575\u001b[0m \u001b[39mreturn\u001b[39;00m ir_module\n",
      "File \u001b[1;32mc:\\Users\\prajw\\anaconda3\\envs\\DeepLearning\\lib\\site-packages\\numba\\cuda\\codegen.py:346\u001b[0m, in \u001b[0;36mJITCUDACodegen._create_empty_module\u001b[1;34m(self, name)\u001b[0m\n\u001b[0;32m    344\u001b[0m ir_module \u001b[39m=\u001b[39m ir\u001b[39m.\u001b[39mModule(name)\n\u001b[0;32m    345\u001b[0m ir_module\u001b[39m.\u001b[39mtriple \u001b[39m=\u001b[39m CUDA_TRIPLE\n\u001b[1;32m--> 346\u001b[0m ir_module\u001b[39m.\u001b[39mdata_layout \u001b[39m=\u001b[39m nvvm\u001b[39m.\u001b[39;49mNVVM()\u001b[39m.\u001b[39mdata_layout\n\u001b[0;32m    347\u001b[0m nvvm\u001b[39m.\u001b[39madd_ir_version(ir_module)\n\u001b[0;32m    348\u001b[0m \u001b[39mreturn\u001b[39;00m ir_module\n",
      "File \u001b[1;32mc:\\Users\\prajw\\anaconda3\\envs\\DeepLearning\\lib\\site-packages\\numba\\cuda\\cudadrv\\nvvm.py:144\u001b[0m, in \u001b[0;36mNVVM.__new__\u001b[1;34m(cls)\u001b[0m\n\u001b[0;32m    141\u001b[0m     \u001b[39mcls\u001b[39m\u001b[39m.\u001b[39m__INSTANCE \u001b[39m=\u001b[39m \u001b[39mNone\u001b[39;00m\n\u001b[0;32m    142\u001b[0m     errmsg \u001b[39m=\u001b[39m (\u001b[39m\"\u001b[39m\u001b[39mlibNVVM cannot be found. Do `conda install \u001b[39m\u001b[39m\"\u001b[39m\n\u001b[0;32m    143\u001b[0m               \u001b[39m\"\u001b[39m\u001b[39mcudatoolkit`:\u001b[39m\u001b[39m\\n\u001b[39;00m\u001b[39m%s\u001b[39;00m\u001b[39m\"\u001b[39m)\n\u001b[1;32m--> 144\u001b[0m     \u001b[39mraise\u001b[39;00m NvvmSupportError(errmsg \u001b[39m%\u001b[39m e)\n\u001b[0;32m    146\u001b[0m \u001b[39m# Find & populate functions\u001b[39;00m\n\u001b[0;32m    147\u001b[0m \u001b[39mfor\u001b[39;00m name, proto \u001b[39min\u001b[39;00m inst\u001b[39m.\u001b[39m_PROTOTYPES\u001b[39m.\u001b[39mitems():\n",
      "\u001b[1;31mNvvmSupportError\u001b[0m: libNVVM cannot be found. Do `conda install cudatoolkit`:\nCould not find module 'nvvm.dll' (or one of its dependencies). Try using the full path with constructor syntax."
     ]
    }
   ],
   "source": [
    "import numpy as np\n",
    "from numba import cuda\n",
    "\n",
    "# Define the matrix multiplication kernel\n",
    "@cuda.jit\n",
    "def matrix_multiplication(A, B, C):\n",
    "    row, col = cuda.grid(2)\n",
    "    if row < C.shape[0] and col < C.shape[1]:\n",
    "        tmp = 0\n",
    "        for k in range(A.shape[1]):\n",
    "            tmp += A[row, k] * B[k, col]\n",
    "        C[row, col] = tmp\n",
    "\n",
    "# Main function for matrix multiplication on GPU\n",
    "def matrix_multiply_on_gpu(A, B):\n",
    "    # Allocate memory on the GPU\n",
    "    A_global_mem = cuda.to_device(A)\n",
    "    B_global_mem = cuda.to_device(B)\n",
    "    C_global_mem = cuda.device_array((A.shape[0], B.shape[1]))\n",
    "\n",
    "    # Configure the grid and block dimensions\n",
    "    threads_per_block = (16, 16)\n",
    "    blocks_per_grid_x = int(np.ceil(A.shape[0] / threads_per_block[0]))\n",
    "    blocks_per_grid_y = int(np.ceil(B.shape[1] / threads_per_block[1]))\n",
    "    blocks_per_grid = (blocks_per_grid_x, blocks_per_grid_y)\n",
    "\n",
    "    # Launch the kernel\n",
    "    matrix_multiplication[blocks_per_grid, threads_per_block](A_global_mem, B_global_mem, C_global_mem)\n",
    "\n",
    "    # Copy the result back to the host\n",
    "    C = C_global_mem.copy_to_host()\n",
    "\n",
    "    return C\n",
    "\n",
    "# Example usage\n",
    "if __name__ == \"__main__\":\n",
    "    # Define matrices A and B\n",
    "    A = np.random.rand(100, 100)\n",
    "    B = np.random.rand(100, 100)\n",
    "\n",
    "    # Perform matrix multiplication on GPU\n",
    "    result = matrix_multiply_on_gpu(A, B)\n",
    "\n",
    "    # Perform matrix multiplication on CPU for comparison\n",
    "    cpu_result = np.dot(A, B)\n",
    "\n",
    "    # Check if the results from GPU and CPU are the same\n",
    "    print(\"Results are equal: \", np.allclose(result, cpu_result))\n"
   ]
  }
 ],
 "metadata": {
  "kernelspec": {
   "display_name": "Python 3",
   "language": "python",
   "name": "python3"
  },
  "language_info": {
   "codemirror_mode": {
    "name": "ipython",
    "version": 3
   },
   "file_extension": ".py",
   "mimetype": "text/x-python",
   "name": "python",
   "nbconvert_exporter": "python",
   "pygments_lexer": "ipython3",
   "version": "3.9.16"
  }
 },
 "nbformat": 4,
 "nbformat_minor": 2
}
